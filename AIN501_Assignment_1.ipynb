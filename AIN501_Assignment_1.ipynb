{
  "nbformat": 4,
  "nbformat_minor": 0,
  "metadata": {
    "colab": {
      "provenance": [],
      "gpuType": "T4"
    },
    "kernelspec": {
      "name": "python3",
      "display_name": "Python 3"
    },
    "language_info": {
      "name": "python"
    },
    "accelerator": "GPU"
  },
  "cells": [
    {
      "cell_type": "markdown",
      "source": [
        "# AIN501 - Deep learning\n",
        "## Assignment 1 - CIFAR 10\n",
        "### Tran Trong Hieu - MSE23185"
      ],
      "metadata": {
        "id": "34IrLag9smNg"
      }
    },
    {
      "cell_type": "markdown",
      "source": [
        "#### I. Import and check GPU"
      ],
      "metadata": {
        "id": "Q7XfIp7l4L8u"
      }
    },
    {
      "cell_type": "code",
      "source": [
        "# Import section\n",
        "import torch\n",
        "import torch.nn as nn\n",
        "import torch.nn.functional as F\n",
        "import torchvision\n",
        "import torchvision.transforms as transforms\n",
        "from torch.utils.data import DataLoader\n",
        "from torch.optim.lr_scheduler import ReduceLROnPlateau\n",
        "import os\n",
        "\n",
        "# Check GPU\n",
        "device = torch.device(\"cuda\" if torch.cuda.is_available() else \"cpu\")\n",
        "print(f\"Using device: {device}\")"
      ],
      "metadata": {
        "colab": {
          "base_uri": "https://localhost:8080/"
        },
        "id": "USRaL7x322R9",
        "outputId": "57feb458-f4a6-4ae9-a6b3-f6dda86f3593"
      },
      "execution_count": 1,
      "outputs": [
        {
          "output_type": "stream",
          "name": "stdout",
          "text": [
            "Using device: cuda\n"
          ]
        }
      ]
    },
    {
      "cell_type": "markdown",
      "source": [
        "#### II. Load dataset CIFAR-10"
      ],
      "metadata": {
        "id": "IeWmi-WZ4Wq7"
      }
    },
    {
      "cell_type": "code",
      "source": [
        "# Transform\n",
        "transform = transforms.Compose([transforms.ToTensor(), transforms.Normalize((0.5, 0.5, 0.5), (0.5, 0.5, 0.5))])\n",
        "\n",
        "# Batch size\n",
        "batch_size_train = 64\n",
        "batch_size_test = 100\n",
        "\n",
        "# Load dataset CIFAR-10\n",
        "trainset = torchvision.datasets.CIFAR10(root='./data', train=True, download=True, transform=transform)\n",
        "trainloader = DataLoader(trainset, batch_size=batch_size_train, shuffle=True, num_workers=2)\n",
        "\n",
        "testset = torchvision.datasets.CIFAR10(root='./data', train=False, download=True, transform=transform)\n",
        "testloader = DataLoader(testset, batch_size=batch_size_test, shuffle=False, num_workers=2)\n",
        "\n",
        "# Define 10 classes of CIFAR-10 dataset\n",
        "classes = ('plane', 'car', 'bird', 'cat', 'deer', 'dog', 'frog', 'horse', 'ship', 'truck')"
      ],
      "metadata": {
        "colab": {
          "base_uri": "https://localhost:8080/"
        },
        "id": "jObev6so4cnq",
        "outputId": "4520bf95-392c-4f15-d7e8-3c05c95c28e8"
      },
      "execution_count": 2,
      "outputs": [
        {
          "output_type": "stream",
          "name": "stderr",
          "text": [
            "100%|██████████| 170M/170M [00:03<00:00, 48.6MB/s]\n"
          ]
        }
      ]
    },
    {
      "cell_type": "markdown",
      "source": [
        "#### III. Build model with informations:\n",
        "1. Using CNN with ELU activation function\n",
        "2. Loss fuction: Cross entropy loss\n",
        "3. Optimizer: Adam\n",
        "4. Early stop and check point"
      ],
      "metadata": {
        "id": "KP6eSPB-6gmS"
      }
    },
    {
      "cell_type": "code",
      "source": [
        "# CNN model with ELU activation fuction\n",
        "class CNN(nn.Module):\n",
        "  def __init__(self):\n",
        "    super(CNN, self).__init__()\n",
        "\n",
        "    self.conv1 = nn.Sequential(\n",
        "      nn.Conv2d(3, 64, 3, padding=1),\n",
        "      nn.BatchNorm2d(64),\n",
        "      nn.ELU(),\n",
        "      nn.Conv2d(64, 64, 3, padding=1),\n",
        "      nn.BatchNorm2d(64),\n",
        "      nn.ELU(),\n",
        "      nn.MaxPool2d(2),\n",
        "      nn.Dropout(0.3)\n",
        "    )\n",
        "\n",
        "    self.conv2 = nn.Sequential(\n",
        "      nn.Conv2d(64, 128, 3, padding=1),\n",
        "      nn.BatchNorm2d(128),\n",
        "      nn.ELU(),\n",
        "      nn.Conv2d(128, 128, 3, padding=1),\n",
        "      nn.BatchNorm2d(128),\n",
        "      nn.ELU(),\n",
        "      nn.MaxPool2d(2),\n",
        "      nn.Dropout(0.4)\n",
        "    )\n",
        "\n",
        "    self.conv3 = nn.Sequential(\n",
        "      nn.Conv2d(128, 256, 3, padding=1),\n",
        "      nn.BatchNorm2d(256),\n",
        "      nn.ELU(),\n",
        "      nn.Conv2d(256, 256, 3, padding=1),\n",
        "      nn.BatchNorm2d(256),\n",
        "      nn.ELU(),\n",
        "      nn.MaxPool2d(2),\n",
        "      nn.Dropout(0.5)\n",
        "    )\n",
        "\n",
        "    self.fc = nn.Sequential(\n",
        "      nn.Flatten(),\n",
        "      nn.Linear(256 * 4 * 4, 512),\n",
        "      nn.ELU(),\n",
        "      nn.Dropout(0.5),\n",
        "      nn.Linear(512, 10)\n",
        "    )\n",
        "\n",
        "  def forward(self, x):\n",
        "    x = self.conv1(x)\n",
        "    x = self.conv2(x)\n",
        "    x = self.conv3(x)\n",
        "    x = self.fc(x)\n",
        "    return x\n",
        "\n",
        "model = CNN().to(device)"
      ],
      "metadata": {
        "id": "py4uK_nP7ebU"
      },
      "execution_count": 3,
      "outputs": []
    },
    {
      "cell_type": "markdown",
      "source": [
        "#### IV. Define optimizer, loss function and early stop"
      ],
      "metadata": {
        "id": "3c0q_Vs-O2dq"
      }
    },
    {
      "cell_type": "code",
      "source": [
        "# Define optimizer, loss function and early stop\n",
        "criterion = nn.CrossEntropyLoss()\n",
        "optimizer = torch.optim.Adam(model.parameters(), lr=0.001)\n",
        "scheduler = ReduceLROnPlateau(optimizer, 'min', patience=3)\n",
        "\n",
        "best_loss = float('inf')\n",
        "early_stop_count = 0\n",
        "patience = 7\n",
        "save_path = 'cnn_model.pth'"
      ],
      "metadata": {
        "id": "L1QPMfB3POnx"
      },
      "execution_count": 5,
      "outputs": []
    },
    {
      "cell_type": "markdown",
      "source": [
        "#### V. Train model"
      ],
      "metadata": {
        "id": "hL0ThUHMQ0-x"
      }
    },
    {
      "cell_type": "code",
      "source": [
        "# Training\n",
        "for epoch in range(100):\n",
        "    model.train()\n",
        "    running_loss = 0.0\n",
        "    for images, labels in trainloader:\n",
        "      images, labels = images.to(device), labels.to(device)\n",
        "\n",
        "      optimizer.zero_grad()\n",
        "      outputs = model(images)\n",
        "      loss = criterion(outputs, labels)\n",
        "      loss.backward()\n",
        "      optimizer.step()\n",
        "\n",
        "      running_loss += loss.item() * images.size(0)\n",
        "\n",
        "    epoch_loss = running_loss / len(trainloader.dataset)\n",
        "    print(f\"Epoch [{epoch+1}/100], Loss: {epoch_loss:.4f}\")\n",
        "    scheduler.step(epoch_loss)\n",
        "\n",
        "    # Early stopping logic\n",
        "    if epoch_loss < best_loss:\n",
        "      best_loss = epoch_loss\n",
        "      early_stop_count = 0\n",
        "      torch.save(model.state_dict(), save_path)\n",
        "      print(\"Saved Best Model\")\n",
        "    else:\n",
        "      early_stop_count += 1\n",
        "      if early_stop_count >= patience:\n",
        "          print(\"Early stopping triggered\")\n",
        "          break\n",
        "\n",
        "# Load best model\n",
        "model.load_state_dict(torch.load(save_path))"
      ],
      "metadata": {
        "colab": {
          "base_uri": "https://localhost:8080/"
        },
        "id": "7EqbgLNeQ3_v",
        "outputId": "a906e437-6aae-44cf-ae18-831951207f26"
      },
      "execution_count": 6,
      "outputs": [
        {
          "output_type": "stream",
          "name": "stdout",
          "text": [
            "Epoch [1/100], Loss: 1.5513\n",
            "Saved Best Model\n",
            "Epoch [2/100], Loss: 1.1103\n",
            "Saved Best Model\n",
            "Epoch [3/100], Loss: 0.9459\n",
            "Saved Best Model\n",
            "Epoch [4/100], Loss: 0.8581\n",
            "Saved Best Model\n",
            "Epoch [5/100], Loss: 0.8001\n",
            "Saved Best Model\n",
            "Epoch [6/100], Loss: 0.7457\n",
            "Saved Best Model\n",
            "Epoch [7/100], Loss: 0.7039\n",
            "Saved Best Model\n",
            "Epoch [8/100], Loss: 0.6673\n",
            "Saved Best Model\n",
            "Epoch [9/100], Loss: 0.6225\n",
            "Saved Best Model\n",
            "Epoch [10/100], Loss: 0.5979\n",
            "Saved Best Model\n",
            "Epoch [11/100], Loss: 0.5633\n",
            "Saved Best Model\n",
            "Epoch [12/100], Loss: 0.5454\n",
            "Saved Best Model\n",
            "Epoch [13/100], Loss: 0.5212\n",
            "Saved Best Model\n",
            "Epoch [14/100], Loss: 0.5010\n",
            "Saved Best Model\n",
            "Epoch [15/100], Loss: 0.4818\n",
            "Saved Best Model\n",
            "Epoch [16/100], Loss: 0.4548\n",
            "Saved Best Model\n",
            "Epoch [17/100], Loss: 0.4524\n",
            "Saved Best Model\n",
            "Epoch [18/100], Loss: 0.4324\n",
            "Saved Best Model\n",
            "Epoch [19/100], Loss: 0.4164\n",
            "Saved Best Model\n",
            "Epoch [20/100], Loss: 0.4050\n",
            "Saved Best Model\n",
            "Epoch [21/100], Loss: 0.3931\n",
            "Saved Best Model\n",
            "Epoch [22/100], Loss: 0.3828\n",
            "Saved Best Model\n",
            "Epoch [23/100], Loss: 0.3674\n",
            "Saved Best Model\n",
            "Epoch [24/100], Loss: 0.3574\n",
            "Saved Best Model\n",
            "Epoch [25/100], Loss: 0.3471\n",
            "Saved Best Model\n",
            "Epoch [26/100], Loss: 0.3425\n",
            "Saved Best Model\n",
            "Epoch [27/100], Loss: 0.3312\n",
            "Saved Best Model\n",
            "Epoch [28/100], Loss: 0.3146\n",
            "Saved Best Model\n",
            "Epoch [29/100], Loss: 0.3125\n",
            "Saved Best Model\n",
            "Epoch [30/100], Loss: 0.3036\n",
            "Saved Best Model\n",
            "Epoch [31/100], Loss: 0.2980\n",
            "Saved Best Model\n",
            "Epoch [32/100], Loss: 0.2898\n",
            "Saved Best Model\n",
            "Epoch [33/100], Loss: 0.2872\n",
            "Saved Best Model\n",
            "Epoch [34/100], Loss: 0.2746\n",
            "Saved Best Model\n",
            "Epoch [35/100], Loss: 0.2736\n",
            "Saved Best Model\n",
            "Epoch [36/100], Loss: 0.2665\n",
            "Saved Best Model\n",
            "Epoch [37/100], Loss: 0.2644\n",
            "Saved Best Model\n",
            "Epoch [38/100], Loss: 0.2505\n",
            "Saved Best Model\n",
            "Epoch [39/100], Loss: 0.2472\n",
            "Saved Best Model\n",
            "Epoch [40/100], Loss: 0.2535\n",
            "Epoch [41/100], Loss: 0.2429\n",
            "Saved Best Model\n",
            "Epoch [42/100], Loss: 0.2403\n",
            "Saved Best Model\n",
            "Epoch [43/100], Loss: 0.2360\n",
            "Saved Best Model\n",
            "Epoch [44/100], Loss: 0.2316\n",
            "Saved Best Model\n",
            "Epoch [45/100], Loss: 0.2265\n",
            "Saved Best Model\n",
            "Epoch [46/100], Loss: 0.2216\n",
            "Saved Best Model\n",
            "Epoch [47/100], Loss: 0.2138\n",
            "Saved Best Model\n",
            "Epoch [48/100], Loss: 0.2133\n",
            "Saved Best Model\n",
            "Epoch [49/100], Loss: 0.2096\n",
            "Saved Best Model\n",
            "Epoch [50/100], Loss: 0.2071\n",
            "Saved Best Model\n",
            "Epoch [51/100], Loss: 0.2047\n",
            "Saved Best Model\n",
            "Epoch [52/100], Loss: 0.2003\n",
            "Saved Best Model\n",
            "Epoch [53/100], Loss: 0.1981\n",
            "Saved Best Model\n",
            "Epoch [54/100], Loss: 0.1974\n",
            "Saved Best Model\n",
            "Epoch [55/100], Loss: 0.1937\n",
            "Saved Best Model\n",
            "Epoch [56/100], Loss: 0.1886\n",
            "Saved Best Model\n",
            "Epoch [57/100], Loss: 0.1829\n",
            "Saved Best Model\n",
            "Epoch [58/100], Loss: 0.1800\n",
            "Saved Best Model\n",
            "Epoch [59/100], Loss: 0.1801\n",
            "Epoch [60/100], Loss: 0.1773\n",
            "Saved Best Model\n",
            "Epoch [61/100], Loss: 0.1786\n",
            "Epoch [62/100], Loss: 0.1804\n",
            "Epoch [63/100], Loss: 0.1714\n",
            "Saved Best Model\n",
            "Epoch [64/100], Loss: 0.1688\n",
            "Saved Best Model\n",
            "Epoch [65/100], Loss: 0.1699\n",
            "Epoch [66/100], Loss: 0.1666\n",
            "Saved Best Model\n",
            "Epoch [67/100], Loss: 0.1628\n",
            "Saved Best Model\n",
            "Epoch [68/100], Loss: 0.1623\n",
            "Saved Best Model\n",
            "Epoch [69/100], Loss: 0.1631\n",
            "Epoch [70/100], Loss: 0.1624\n",
            "Epoch [71/100], Loss: 0.1532\n",
            "Saved Best Model\n",
            "Epoch [72/100], Loss: 0.1534\n",
            "Epoch [73/100], Loss: 0.1447\n",
            "Saved Best Model\n",
            "Epoch [74/100], Loss: 0.1603\n",
            "Epoch [75/100], Loss: 0.1529\n",
            "Epoch [76/100], Loss: 0.1543\n",
            "Epoch [77/100], Loss: 0.1449\n",
            "Epoch [78/100], Loss: 0.1074\n",
            "Saved Best Model\n",
            "Epoch [79/100], Loss: 0.0983\n",
            "Saved Best Model\n",
            "Epoch [80/100], Loss: 0.0891\n",
            "Saved Best Model\n",
            "Epoch [81/100], Loss: 0.0831\n",
            "Saved Best Model\n",
            "Epoch [82/100], Loss: 0.0825\n",
            "Saved Best Model\n",
            "Epoch [83/100], Loss: 0.0813\n",
            "Saved Best Model\n",
            "Epoch [84/100], Loss: 0.0767\n",
            "Saved Best Model\n",
            "Epoch [85/100], Loss: 0.0768\n",
            "Epoch [86/100], Loss: 0.0732\n",
            "Saved Best Model\n",
            "Epoch [87/100], Loss: 0.0720\n",
            "Saved Best Model\n",
            "Epoch [88/100], Loss: 0.0731\n",
            "Epoch [89/100], Loss: 0.0708\n",
            "Saved Best Model\n",
            "Epoch [90/100], Loss: 0.0666\n",
            "Saved Best Model\n",
            "Epoch [91/100], Loss: 0.0656\n",
            "Saved Best Model\n",
            "Epoch [92/100], Loss: 0.0622\n",
            "Saved Best Model\n",
            "Epoch [93/100], Loss: 0.0644\n",
            "Epoch [94/100], Loss: 0.0624\n",
            "Epoch [95/100], Loss: 0.0614\n",
            "Saved Best Model\n",
            "Epoch [96/100], Loss: 0.0607\n",
            "Saved Best Model\n",
            "Epoch [97/100], Loss: 0.0596\n",
            "Saved Best Model\n",
            "Epoch [98/100], Loss: 0.0594\n",
            "Saved Best Model\n",
            "Epoch [99/100], Loss: 0.0565\n",
            "Saved Best Model\n",
            "Epoch [100/100], Loss: 0.0567\n"
          ]
        },
        {
          "output_type": "execute_result",
          "data": {
            "text/plain": [
              "<All keys matched successfully>"
            ]
          },
          "metadata": {},
          "execution_count": 6
        }
      ]
    },
    {
      "cell_type": "markdown",
      "source": [
        "#### VI. Evaluation model"
      ],
      "metadata": {
        "id": "csvg8OzdRumh"
      }
    },
    {
      "cell_type": "code",
      "source": [
        "# Evaluation\n",
        "def evaluate(model, testloader):\n",
        "    model.eval()\n",
        "    total = 0\n",
        "    correct = 0\n",
        "    class_correct = [0] * 10\n",
        "    class_total = [0] * 10\n",
        "    total_loss = 0.0\n",
        "\n",
        "    with torch.no_grad():\n",
        "        for images, labels in testloader:\n",
        "            images, labels = images.to(device), labels.to(device)\n",
        "            outputs = model(images)\n",
        "            loss = criterion(outputs, labels)\n",
        "            total_loss += loss.item() * images.size(0)\n",
        "\n",
        "            _, predicted = torch.max(outputs, 1)\n",
        "            total += labels.size(0)\n",
        "            correct += (predicted == labels).sum().item()\n",
        "\n",
        "            for i in range(len(labels)):\n",
        "                label = labels[i]\n",
        "                pred = predicted[i]\n",
        "                if label == pred:\n",
        "                    class_correct[label] += 1\n",
        "                class_total[label] += 1\n",
        "\n",
        "    print(f\"\\nTest Loss: {total_loss / total:.6f}\\n\")\n",
        "    for i in range(10):\n",
        "        acc = 100 * class_correct[i] / class_total[i]\n",
        "        print(f\"Test Accuracy of {classes[i]:10}: {acc:.0f}% ({class_correct[i]}/{class_total[i]})\")\n",
        "    print(f\"Test Accuracy (Overall): {100 * correct / total:.0f}% ({correct}/{total})\")\n",
        "\n",
        "evaluate(model, testloader)"
      ],
      "metadata": {
        "colab": {
          "base_uri": "https://localhost:8080/"
        },
        "id": "6o8QreNzRyes",
        "outputId": "486276a4-2e5b-4bda-a748-621ebd1a0ab8"
      },
      "execution_count": 7,
      "outputs": [
        {
          "output_type": "stream",
          "name": "stdout",
          "text": [
            "\n",
            "Test Loss: 0.462660\n",
            "\n",
            "Test Accuracy of plane     : 90% (901/1000)\n",
            "Test Accuracy of car       : 95% (950/1000)\n",
            "Test Accuracy of bird      : 85% (852/1000)\n",
            "Test Accuracy of cat       : 80% (796/1000)\n",
            "Test Accuracy of deer      : 91% (909/1000)\n",
            "Test Accuracy of dog       : 83% (831/1000)\n",
            "Test Accuracy of frog      : 94% (939/1000)\n",
            "Test Accuracy of horse     : 90% (905/1000)\n",
            "Test Accuracy of ship      : 94% (943/1000)\n",
            "Test Accuracy of truck     : 94% (942/1000)\n",
            "Test Accuracy (Overall): 90% (8968/10000)\n"
          ]
        }
      ]
    }
  ]
}